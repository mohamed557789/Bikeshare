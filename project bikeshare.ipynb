{
 "cells": [
  {
   "cell_type": "code",
   "execution_count": 1,
   "metadata": {},
   "outputs": [],
   "source": [
    "import time\n",
    "import pandas as pd\n",
    "import numpy as np\n",
    "import calendar"
   ]
  },
  {
   "cell_type": "code",
   "execution_count": 2,
   "metadata": {},
   "outputs": [],
   "source": [
    "CITY_DATA = { 'chicago': 'chicago.csv',\n",
    "              'new york city': 'new_york_city.csv','washington': 'washington.csv' }"
   ]
  },
  {
   "cell_type": "code",
   "execution_count": 3,
   "metadata": {},
   "outputs": [],
   "source": [
    "def get_filters():\n",
    "    \n",
    "    \n",
    "    \"\"\"\n",
    "    Asks user to specify a city, month, and day to analyze.\n",
    "\n",
    "    Returns:\n",
    "        (str) city - name of the city to analyze\n",
    "        (str) month - name of the month to filter by, or \"all\" to apply no month filter\n",
    "        (str) day - name of the day of week to filter by, or \"all\" to apply no day filter\n",
    "    \"\"\"\n",
    "    print('Hello! Let\\'s explore some US bikeshare data!')\n",
    "    # TO DO: get user input for city (chicago, new york city, washington). HINT: Use a while loop to handle invalid inputs\n",
    "\n",
    "    while True:\n",
    "        city=input('would you like to see data for chicago ,new york city ,washington : ').lower()\n",
    "        if city not in (CITY_DATA.keys()):\n",
    "            print('please choose corect city ')\n",
    "        else:\n",
    "            break\n",
    "    \n",
    "    # TO DO: get user input for month (all, january, february, ... , june)\n",
    "    while True :\n",
    "        month=input ('please entre a month or choose all to display all months : ').lower()\n",
    "        months=['january','february','march','april','may','june']\n",
    "        if month != 'all' and month not in months:\n",
    "            print('please entre corect month ')\n",
    "        else:\n",
    "            break\n",
    "   \n",
    "    # TO DO: get user input for day of week (all, monday, tuesday, ... sunday)\n",
    "    while True :\n",
    "        day=input('please entre a name of day or choose all to display all day in week : ').lower()\n",
    "        days=['saturday','sunday','monday','tuesday','wednesday','thusday','friday']\n",
    "        if day != 'all' and day not in days :\n",
    "            print('please entre corect day ')\n",
    "        else:\n",
    "            break\n",
    "\n",
    "    print('-'*40)\n",
    "    return city, month, day"
   ]
  },
  {
   "cell_type": "code",
   "execution_count": 5,
   "metadata": {},
   "outputs": [],
   "source": [
    "def load_data(city, month, day):\n",
    "\n",
    "    \"\"\"\n",
    "    Loads data for the specified city and filters by month and day if applicable.\n",
    "\n",
    "    Args:\n",
    "        (str) city - name of the city to analyze\n",
    "        (str) month - name of the month to filter by, or \"all\" to apply no month filter\n",
    "        (str) day - name of the day of week to filter by, or \"all\" to apply no day filter\n",
    "    Returns:\n",
    "        df - Pandas DataFrame containing city data filtered by month and day\n",
    "    \"\"\"\n",
    "    #load data file in dataframe\n",
    "    df = pd.read_csv(CITY_DATA[city])\n",
    "    \n",
    "    #convert the start  time to datetime\n",
    "    df['Start Time']=pd.to_datetime(df['Start Time'])\n",
    "    \n",
    "    df['month']=df['Start Time'].dt.month\n",
    "    df['day']=df['Start Time'].dt.day_name\n",
    "    \n",
    "    #filter by month\n",
    "    if month != 'all':\n",
    "        months=['jenuary','february','march','april','may','june']\n",
    "        month=months.index(month) +1\n",
    "        df = df[df['month'] == month]\n",
    "    # filter by day\n",
    "    \n",
    "    if day !='all':\n",
    "        df =df[df['day'] == day.title()]\n",
    "        \n",
    "    return df"
   ]
  },
  {
   "cell_type": "code",
   "execution_count": 6,
   "metadata": {},
   "outputs": [],
   "source": [
    "def display_raw_data(df):\n",
    "    \"\"\"\n",
    "    Displays subsequent rows of data according to user answer\"\"\"\n",
    "    i=0\n",
    "    answer=input('would you like to display the first 5 raw of data ? yes/no : ').lower()\n",
    "    pd.set_option('display.max_columns',None)\n",
    "    while True:\n",
    "        if answer =='no':\n",
    "            break \n",
    "        print(df[i:i+5])\n",
    "        answer = input('would you like to display the 5 raw of data? yes/no :').lower()\n",
    "        i+=5"
   ]
  },
  {
   "cell_type": "code",
   "execution_count": 7,
   "metadata": {},
   "outputs": [],
   "source": [
    "def time_stats(df):\n",
    "    \"\"\"Displays statistics on the most frequent times of travel.\"\"\"\n",
    "\n",
    "    print('\\nCalculating The Most Frequent Times of Travel...\\n')\n",
    "    start_time = time.time()\n",
    "\n",
    "    # TO DO: display the most common month\n",
    "    common_month= df['month'].mode()[0]\n",
    "    print('Most Common Month :',calendar.month_name[common_month])\n",
    "    \n",
    "    # TO DO: display the most common day of week\n",
    "    df['day']=df['Start Time'].dt.day\n",
    "    common_day =df['day'].mode()[0]\n",
    "    print('Most Common Day :',common_day)\n",
    "    # TO DO: display the most common start hour\n",
    "    df['hour']=df['Start Time'].dt.hour\n",
    "    common_hour= df['hour'].mode()[0]\n",
    "    print('most common hour :',common_hour)\n",
    "    \n",
    "\n",
    "    print(\"\\nThis took %s seconds.\" % (time.time() - start_time))\n",
    "    print('-'*40)\n"
   ]
  },
  {
   "cell_type": "code",
   "execution_count": 8,
   "metadata": {},
   "outputs": [],
   "source": [
    "def station_stats(df):\n",
    "    \"\"\"Displays statistics on the most popular stations and trip.\"\"\"\n",
    "\n",
    "    print('\\nCalculating The Most Popular Stations and Trip...\\n')\n",
    "    start_time = time.time()\n",
    "\n",
    "    # TO DO: display most commonly used start station\n",
    "    common_start_station =df['Start Station'].mode()[0]\n",
    "    print('most  common station :',common_start_station)\n",
    "    # TO DO: display most commonly used end station\n",
    "    common_end_station= df['End Station'].mode()[0]\n",
    "    print('Most common end station :',common_end_station)\n",
    "    # TO DO: display most frequent combination of start station and end station trip\n",
    "    common_start_end_st=(df['Start Station'] +'to'+ df['End Station'])\n",
    "    print('most frequent combination of start station and end station :',common_start_end_st.mode()[0])\n",
    "    print(\"\\nThis took %s seconds.\" % (time.time() - start_time))\n",
    "    print('-'*40)\n"
   ]
  },
  {
   "cell_type": "code",
   "execution_count": 9,
   "metadata": {},
   "outputs": [],
   "source": [
    "def trip_duration_stats(df):\n",
    "    \"\"\"Displays statistics on the total and average trip duration.\"\"\"\n",
    "\n",
    "    print('\\nCalculating Trip Duration...\\n')\n",
    "    start_time = time.time()\n",
    "\n",
    "    # TO DO: display total travel time\n",
    "    df['Start Hour']=pd.to_datetime(df['Start Time'])\n",
    "    df['End Hour']= pd.to_datetime(df['End Time'])\n",
    "    df['Travel Time'] = df['End Hour']-df['Start Hour']\n",
    "    total=np.sum(df['Travel Time'])\n",
    "    \n",
    "    # TO DO: display mean travel time\n",
    "    average= df['Travel Time'].mean()\n",
    "    print('average travel time :',average)\n",
    "    print(\"\\nThis took %s seconds.\" % (time.time() - start_time))\n",
    "    print('-'*40)"
   ]
  },
  {
   "cell_type": "code",
   "execution_count": 10,
   "metadata": {},
   "outputs": [],
   "source": [
    "def user_stats(df):\n",
    "    \"\"\"Displays statistics on bikeshare users.\"\"\"\n",
    "\n",
    "    print('\\nCalculating User Stats...\\n')\n",
    "    start_time = time.time()\n",
    "\n",
    "    # TO DO: Display counts of user types\n",
    "    print('Counts of user type : ', df['User Type'].count());\n",
    "\n",
    "    # TO DO: Display counts of gender\n",
    "    if 'Gender' in df:\n",
    "        \n",
    "        print('counts of gender :',df['Gender'].count())\n",
    "\n",
    "    # TO DO: Display earliest, most recent, and most common year of birth\n",
    "    if 'Birth Year' in df:\n",
    "        \n",
    "        earliest=int(df['Birth Year'].min())\n",
    "        print('Earlist Birth Year :',earliest)\n",
    "        recent =int(df['Birth Year'].max())\n",
    "        print('most recent year of birth :',recent)\n",
    "        common=int(df['Birth Year'].mode()[0])\n",
    "        \n",
    "        print('most common year of birth:',common)\n",
    "    print(\"\\nThis took %s seconds.\" % (time.time() - start_time))\n",
    "    print('-'*40)\n",
    "\n"
   ]
  },
  {
   "cell_type": "code",
   "execution_count": null,
   "metadata": {},
   "outputs": [
    {
     "name": "stdout",
     "output_type": "stream",
     "text": [
      "Hello! Let's explore some US bikeshare data!\n"
     ]
    }
   ],
   "source": [
    "def main():\n",
    "    while True:\n",
    "        city, month, day = get_filters()\n",
    "        df = load_data(city, month, day)\n",
    "        \n",
    "        display_raw_data(df)\n",
    "        time_stats(df)\n",
    "        station_stats(df)\n",
    "        trip_duration_stats(df)\n",
    "        user_stats(df)\n",
    "\n",
    "        restart = input('\\nWould you like to restart? Enter yes or no.\\n')\n",
    "        if restart.lower() != 'yes':\n",
    "            break\n",
    "\n",
    "\n",
    "if __name__ == \"__main__\":\n",
    "\tmain()\n",
    "\n",
    "\n",
    "\n"
   ]
  },
  {
   "cell_type": "code",
   "execution_count": null,
   "metadata": {},
   "outputs": [],
   "source": []
  },
  {
   "cell_type": "code",
   "execution_count": null,
   "metadata": {},
   "outputs": [],
   "source": []
  },
  {
   "cell_type": "code",
   "execution_count": null,
   "metadata": {},
   "outputs": [],
   "source": []
  },
  {
   "cell_type": "code",
   "execution_count": null,
   "metadata": {},
   "outputs": [],
   "source": []
  },
  {
   "cell_type": "code",
   "execution_count": null,
   "metadata": {},
   "outputs": [],
   "source": []
  },
  {
   "cell_type": "code",
   "execution_count": null,
   "metadata": {},
   "outputs": [],
   "source": []
  }
 ],
 "metadata": {
  "kernelspec": {
   "display_name": "Python 3",
   "language": "python",
   "name": "python3"
  },
  "language_info": {
   "codemirror_mode": {
    "name": "ipython",
    "version": 3
   },
   "file_extension": ".py",
   "mimetype": "text/x-python",
   "name": "python",
   "nbconvert_exporter": "python",
   "pygments_lexer": "ipython3",
   "version": "3.8.5"
  }
 },
 "nbformat": 4,
 "nbformat_minor": 4
}
